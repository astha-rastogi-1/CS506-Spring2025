{
 "cells": [
  {
   "attachments": {},
   "cell_type": "markdown",
   "metadata": {},
   "source": [
    "# Git / GitHub\n",
    "\n",
    "## Prerequisites (installations)\n",
    "\n",
    "#### This is your checklist:\n",
    "\n",
    "- [ ] Access to terminal\n",
    "- [ ] Install Git\n",
    "- [ ] Sign up for a GitHub account\n",
    "- [ ] Choose editor\n",
    "- [ ] Set up ssh keys\n",
    "- [ ] Configure git\n",
    "\n",
    "### Step 1: Work Environment:  Access to Terminal \n",
    "\n",
    "- Mac/Linux: use **Terminal**\n",
    "- Windows:\n",
    "\t- Option 1:  [Power Shell](https://www.digitalcitizen.life/simple-questions-what-powershell-what-can-you-do-it)\n",
    "\t- Option 2:  Git Bash (recommended)\n",
    "\t\n",
    "### Step 2: Install Git\n",
    "\n",
    "  * [Mac](https://git-scm.com/download/mac)\n",
    "  * [Git for Windows (Git Bash)](https://gitforwindows.org/)\n",
    "  * [Install Git on Linux](https://www.atlassian.com/git/tutorials/install-git#linux)\n",
    "\n",
    "Confirm Git is installed by typing `git --version` on your terminal\n",
    "\n",
    "### Step 3: Sign up for a GitHub Account\n",
    " \n",
    " Go to [github.com](https://github.com/)\n",
    "\n",
    "### Step 4: Choose a Graphical Editor\n",
    "\n",
    "- Try Visual Studio Code\n",
    "\t* [Visual Studio Code](https://visualstudio.microsoft.com/downloads/)\n",
    "- OR one of these other editors\n",
    "\t* [Sublime Text 3](https://www.sublimetext.com/)\n",
    "\t* [Atom](https://atom.io/) \n",
    "\t* [Notepad++](https://notepad-plus-plus.org/) (for Windows)\n",
    "\n",
    "### Step 5: SSH Setup\n",
    "\n",
    "#### Windows Users\n",
    "\n",
    "Follow [How to Create SSH Keys with PuTTY on Windows](https://www.digitalocean.com/docs/droplets/how-to/add-ssh-keys/create-with-putty/)\n",
    "\n",
    "#### For Windows 10 or 11\n",
    "- Press Windows+R\n",
    "- Enter cmd\n",
    "- In the opened Command Prompt, type in “ssh-keygen”\n",
    "- Press Enter\n",
    "- You can choose to enter a passphrase, it will not be displayed.\n",
    "- Go to the shown path to find your file named id_rsa.pub Ex. C:\\Users\\user/ .ssh/id_rsa.pub\n",
    "- Open the file with a notepad and copy everything\n",
    "- Go to github and click settings at top right \n",
    "- Go to SSH and GPG keys, click New SSH key and paste your SSH key here. \n",
    "- Click Add SSH key. You might be asked to enter Github password.\n",
    "- Go back to your Command Prompt and type in “ssh -T git@github.com”\n",
    "- Enter your SSH passphrase. \n",
    "\n",
    "- You will see “You’ve successfully authenticated” in the following message. Which means you are now connected to Github.\n",
    "\n",
    "#### Linux & Mac (or Windows git bash)\n",
    "\n",
    "Launch a Terminal if on Linux or Mac. Launch Git Bash if on Windows.\n",
    "\n",
    "Go to your home directory.\n",
    "\n",
    "```bash\n",
    "% cd ~\n",
    "% pwd\n",
    "/Users/gallettilance\n",
    "```\n",
    "\n",
    "Go to `.ssh` directory\n",
    "\n",
    "```bash\n",
    "% pwd\n",
    "/Users/gallettilance\n",
    "% cd .ssh\n",
    "% pwd\n",
    "/Users/gallettilance/.ssh \n",
    "```\n",
    "\n",
    "**Note:**  If you do not have the `.ssh` directory, you can create it\n",
    "\n",
    "- if you are in your home directory:\n",
    "\t- <kbd> mkdir .ssh </kbd>  \n",
    "- if you are not in your home directory:\n",
    "\t- <kbd> mkdir ~/.ssh </kbd>  \n",
    "\n",
    "Generate `id_rsa` keypair files if needed\n",
    "\n",
    "- **Note:**  these `id_rsa` files contain a special password for your computer to connect to network services (Ex:  GitHub, AWS).\n",
    "- Check to see if these files exist by typing <kbd> ls -alt</kbd>\n",
    "- If you do not have these two files (`id_rsa` and `id_rsa.pub`), create them by typing:  \n",
    "\t- <kbd> ```ssh-keygen -t rsa -b 4096``` </kbd>\n",
    "\t- Hit  <kbd> enter  </kbd> **3 times**\n",
    "\n",
    "```bash\n",
    "% pwd \n",
    "/Users/gallettilance/.ssh\n",
    "% ls\n",
    "% ssh-keygen -t rsa -b 4096\n",
    "Generating public/private rsa key pair.\n",
    "Enter file in which to save the key (/Users/gallettilance/.ssh/id_rsa): \n",
    "Enter passphrase (empty for no passphrase): \n",
    "Enter same passphrase again: \n",
    "Your identification has been saved in /Users/gallettilance/.ssh/id_rsa.\n",
    "Your public key has been saved in /Users/gallettilance/.ssh/id_rsa.pub.\n",
    "The key fingerprint is:\n",
    "SHA256:jmDJes1qOzDi8KynXLGQ098JMSRnbIyt0w7vSgEsr2E gallettilance@RESHAMAs-MacBook-Pro.local\n",
    "The key's randomart image is:\n",
    "+---[RSA 2048]----+\n",
    "|   .=+           |\n",
    "|.  .==           |\n",
    "|.o  +o           |\n",
    "|..+= oo          |\n",
    "|.E.+X.  S        |\n",
    "|+o=o=*oo.        |\n",
    "|++.*o.+o.        |\n",
    "|..*.oo           |\n",
    "|o= o+o           |\n",
    "+----[SHA256]-----+\n",
    "% ls\n",
    "total 16\n",
    "-rw-------  1   1675 Dec 17 12:20 id_rsa\n",
    "-rw-r--r--  1    422 Dec 17 12:20 id_rsa.pub\n",
    "% \n",
    "```\n",
    "\n",
    "Navigate to the `.ssh` directory\n",
    "\n",
    "<kbd> cd ~/.ssh </kbd>  \n",
    "\n",
    "open `id_rsa.pub` using your editor of choice and copy its contents. Add `ssh` key to GitHub by following these steps:\n",
    "\n",
    "- go to your [GitHub account](https://github.com/) (create one if you don't have one, and save your user name and password somewhere easily accessible for you.)\n",
    "- click on your avatar/profile picture (upper right of screen)\n",
    "- go to `Settings`\n",
    "- on left of screen, select `SSH and GPG keys`\n",
    "- Select <kbd> New SSH key </kbd>\n",
    "- for \"Title\":  entitle it  \"GitHub key\"\n",
    "- for \"Key\":  paste key from clipboard here\n",
    "- click <kbd> Add SSH key </kbd>\n",
    "- save, exit, confirm GitHub password as requested\n",
    "\n",
    "Verify that you can authenticate with github:\n",
    "\n",
    "```bash\n",
    "ssh -T git@github.com\n",
    "```\n",
    "\n",
    "### Step 6: Configure Git\n",
    "\n",
    "#### Configure user name and email (lets Git know who you are)\n",
    "\n",
    "<kbd> git config --global user.name \"First Last\"  </kbd>  \n",
    "<kbd> git config --global user.email \"myname@email.com\"  </kbd>  \n",
    "\n",
    "To verify these additions, type:  \n",
    "<kbd> git config --list  </kbd>  \n",
    "\n",
    "#### Default Editor\n",
    "\n",
    "The default editor will be [Vim](https://vim.rtorr.com/). You may want to look up how to edit, save, and close vim as this can't be done with just point and click (you must use the vim commands)."
   ]
  },
  {
   "attachments": {},
   "cell_type": "markdown",
   "metadata": {},
   "source": [
    "### Git / GitHub (In Class)\n",
    "\n",
    "This won't be graded and is simply to help you keep track of important information through lecture.\n",
    "\n",
    "a) what is the difference between git and github?"
   ]
  },
  {
   "cell_type": "markdown",
   "metadata": {},
   "source": [
    "Git is a version control system that works on your local terminal, while GitHub is a browser application that is used to backup and host the timeline of projects (a viewer for git repos)"
   ]
  },
  {
   "cell_type": "markdown",
   "metadata": {},
   "source": [
    "b) what command would you use to copy a repo locally?"
   ]
  },
  {
   "cell_type": "markdown",
   "metadata": {},
   "source": [
    "git clone <repo_url>"
   ]
  },
  {
   "cell_type": "markdown",
   "metadata": {},
   "source": [
    "c) what button would you use to make a copy of a repo in GitHub?"
   ]
  },
  {
   "cell_type": "markdown",
   "metadata": {},
   "source": [
    "fork"
   ]
  },
  {
   "attachments": {},
   "cell_type": "markdown",
   "metadata": {},
   "source": [
    "d) let's say you have a copy of a repo in GitHub but that repo changes, does your copy on your laptop change too? why / why not?"
   ]
  },
  {
   "cell_type": "markdown",
   "metadata": {},
   "source": [
    "It won't change unless I pull those changes from upstream, and only as long as my local copy is linked to the original repo via forking"
   ]
  },
  {
   "cell_type": "markdown",
   "metadata": {},
   "source": [
    "e) what are the three commands you use to create a new save point in your git repo and back it up to GitHub?"
   ]
  },
  {
   "cell_type": "markdown",
   "metadata": {},
   "source": [
    "git add <file>\n",
    "\n",
    "git commit -m <message>\n",
    "\n",
    "git push origin <branch>"
   ]
  },
  {
   "attachments": {},
   "cell_type": "markdown",
   "metadata": {},
   "source": [
    "f) how would you make your local and remote copies change so that they have the most up-to-date version of the repo they are copied from?"
   ]
  },
  {
   "cell_type": "markdown",
   "metadata": {},
   "source": [
    "git pull upstream <branch> to have the most up to dat versions locally, and then git push origin <branch> to ensure the remote copy is also updated. Generally this happens on the main branch"
   ]
  },
  {
   "cell_type": "markdown",
   "metadata": {},
   "source": [
    "g) why are there sometimes conflicts between copied repos / branches? How do you resolve them?"
   ]
  },
  {
   "cell_type": "markdown",
   "metadata": {},
   "source": [
    "Sometimes a branch might have a base that is before the updates took place, and may conflict when trying to sync with the original updates. They can be resolved by rebasing the branches, or by creating merge commits"
   ]
  },
  {
   "cell_type": "markdown",
   "metadata": {},
   "source": [
    "h) describe all the steps needed to make a PR to contribute your notes to the class repository."
   ]
  },
  {
   "cell_type": "markdown",
   "metadata": {},
   "source": [
    "1. First fork the repo\n",
    "2. Clone this forked repo into local (git clone <repo>)\n",
    "3. Make a new branch (git checkout -b <branch>)\n",
    "4. Make the changes to that branch\n",
    "5. Add, commit and push those changes to the forked repo (git add, git commit, git push origin <branch>)\n",
    "6. Go to the original repo, and make a pull request from the branch in your forked repo to the branch in the original repo"
   ]
  },
  {
   "cell_type": "markdown",
   "metadata": {},
   "source": [
    "i) Write here some other commands we used in class and what they mean / how to use them:"
   ]
  },
  {
   "cell_type": "markdown",
   "metadata": {},
   "source": []
  },
  {
   "attachments": {},
   "cell_type": "markdown",
   "metadata": {},
   "source": [
    "## Coding + Git / GitHub Exercise\n",
    "\n",
    "This is an optional exercise should you need the practice.\n",
    "\n",
    "a) Create a folder on your laptop called \"polynomial\" and initialize it as a git repo. Create a public empty repo on your github called \"polynomial\". In your local git folder, add a remote called \"origin\" pointing to the github repo you just created. Create a file called \"polynomial.py\" with the following code:\n",
    "\n",
    "```python\n",
    "class X:\n",
    "    def __init__(self):\n",
    "        pass\n",
    "\n",
    "    def __repr__(self):\n",
    "        return \"X\"\n",
    "\n",
    "class Int:\n",
    "    def __init__(self, i):\n",
    "        self.i = i\n",
    "    \n",
    "    def __repr__(self):\n",
    "        return str(self.i)\n",
    "\n",
    "class Add:\n",
    "    def __init__(self, p1, p2):\n",
    "        self.p1 = p1\n",
    "        self.p2 = p2\n",
    "    \n",
    "    def __repr__(self):\n",
    "        return repr(self.p1) + \" + \" + repr(self.p2)\n",
    "\n",
    "class Mul:\n",
    "    def __init__(self, p1, p2):\n",
    "        self.p1 = p1\n",
    "        self.p2 = p2\n",
    "    \n",
    "    def __repr__(self):\n",
    "        if isinstance(self.p1, Add):\n",
    "            if isinstance(self.p2, Add):\n",
    "                 return \"( \" + repr(self.p1) + \" ) * ( \" + repr(self.p2) + \" )\"\n",
    "            return \"( \" + repr(self.p1) + \" ) * \" + repr(self.p2)\n",
    "        if isinstance(self.p2, Add):\n",
    "            return repr(self.p1) + \" * ( \" + repr(self.p2) + \" )\"\n",
    "        return repr(self.p1) + \" * \" + repr(self.p2)\n",
    "\n",
    "\n",
    "poly = Add( Add( Int(4), Int(3)), Add( X(), Mul( Int(1), Add( Mul(X(), X()), Int(1)))))\n",
    "print(poly)\n",
    "```\n",
    "\n",
    "add and commit this file with the following message \"cs 506 exercise part a\". Push these changes to github.\n",
    "\n",
    "b) Write an `evaluate` method to each class that can evaluate the polynomial for a given value of `X`.\n",
    "\n",
    "```python\n",
    "poly = Add( Add( Int(4), Int(3)), Add( X(), Mul( Int(1), Add( Mul(X(), X()), Int(1)))))\n",
    "print(poly.evaluate(-1))\n",
    "```\n",
    "\n",
    "This should return the **integer** solution when `X = -1`.\n",
    "\n",
    "When you're done with this part, add and commit the changes with the message \"cs 506 exercise part b\".\n",
    "\n",
    "c) Add two classes `Div` and `Sub` for Division and Subtraction respectively. Modify the code for evaluate and the other classes if needed. Ensure you follow the order of operations.\n",
    "\n",
    "```python\n",
    "poly = Add( Sub( Int(4), Int(3)), Add( X(), Mul( Div(Int(3), X()), Add( Mul(X(), Sub(X(), Int(5))), Int(1)))))\n",
    "print(poly.evaluate(-1))\n",
    "```\n",
    "\n",
    "When you're done with this part, add and commit the changes with the message \"cs 506 exercise part c\"."
   ]
  }
 ],
 "metadata": {
  "kernelspec": {
   "display_name": "Python 3",
   "language": "python",
   "name": "python3"
  },
  "language_info": {
   "name": "python",
   "version": "3.11.1"
  },
  "orig_nbformat": 4,
  "vscode": {
   "interpreter": {
    "hash": "e7370f93d1d0cde622a1f8e1c04877d8463912d04d973331ad4851f04de6915a"
   }
  }
 },
 "nbformat": 4,
 "nbformat_minor": 2
}
